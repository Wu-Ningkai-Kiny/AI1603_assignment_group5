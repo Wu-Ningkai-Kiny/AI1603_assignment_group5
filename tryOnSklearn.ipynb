{
 "cells": [
  {
   "cell_type": "markdown",
   "id": "390b498b",
   "metadata": {},
   "source": [
    "# 基于Scikit-learn的模型\n",
    "**注意：本文件为本小组对比探究用例，并非主要的探究内容，内容大部分由AI生成**\n",
    "\n",
    "为保证代码运行的稳定性，建议您使用以下版本的python及其库：\n",
    "\n",
    "| 名称 | python | numpy | pandas | matplotlib | seaborn | sklearn |\n",
    "| ------- | ------- | ------- | ------- | ------- | ------- | ------- |\n",
    "| 版本号 | 3.11.13 | 2.3.1 | 2.3.1 | 3.10.3 | 0.13.2 | 1.7.0 |"
   ]
  },
  {
   "cell_type": "code",
   "execution_count": 1,
   "id": "ab65f403",
   "metadata": {},
   "outputs": [],
   "source": [
    "import numpy as np\n",
    "import pandas as pd\n",
    "import matplotlib.pyplot as plt\n",
    "import seaborn as sns\n",
    "from sklearn.model_selection import train_test_split\n",
    "from sklearn.preprocessing import StandardScaler\n",
    "from sklearn.neural_network import MLPClassifier\n",
    "from sklearn.metrics import classification_report, confusion_matrix, ConfusionMatrixDisplay"
   ]
  },
  {
   "cell_type": "code",
   "execution_count": 2,
   "id": "2b585095",
   "metadata": {},
   "outputs": [],
   "source": [
    "def load_data(csv_type):\n",
    "    if csv_type == \"train\":\n",
    "        train_df = pd.read_csv('train.csv')\n",
    "        train_df = train_df.drop(\"timecc\", axis=1) # 全是0，无意义\n",
    "        win_or_lose = train_df.iloc[:, 1].values.reshape(-1, 1)\n",
    "        basic_data = train_df.iloc[:, 2:31].values\n",
    "        return win_or_lose, basic_data\n",
    "    elif csv_type == \"test\":\n",
    "        test_df = pd.read_csv('test_template.csv')\n",
    "        test_df = test_df.drop(\"timecc\", axis=1)\n",
    "        basic_data = test_df.iloc[:, 2:31].values\n",
    "        return basic_data\n",
    "    else:\n",
    "        return 0 # 返回0，表示输入不合法"
   ]
  },
  {
   "cell_type": "code",
   "execution_count": 3,
   "id": "3c96f807",
   "metadata": {},
   "outputs": [],
   "source": [
    "def writeDown(index, data):\n",
    "    result_df = pd.DataFrame({\n",
    "        'id': index,\n",
    "        'win': data\n",
    "    })\n",
    "    result_df.to_csv('predictions.csv', index=False)\n",
    "    print(\"预测结果已保存到 predictions.csv\")"
   ]
  },
  {
   "cell_type": "code",
   "execution_count": 4,
   "id": "682f574c",
   "metadata": {},
   "outputs": [],
   "source": [
    "# 加载示例数据集\n",
    "y, X = load_data(\"train\")\n",
    "y = y.reshape(-1, )\n",
    "\n",
    "# 分割数据集为训练集和测试集\n",
    "X_train, X_test, y_train, y_test = train_test_split(X, y, test_size=0.2, random_state=42)\n",
    "\n",
    "# 数据标准化\n",
    "scaler = StandardScaler()\n",
    "X_train_scaled = scaler.fit_transform(X_train)\n",
    "X_test_scaled = scaler.transform(X_test)\n"
   ]
  },
  {
   "cell_type": "code",
   "execution_count": 5,
   "id": "9ad470be",
   "metadata": {},
   "outputs": [],
   "source": [
    "# 构建多层感知机模型\n",
    "mlp = MLPClassifier(\n",
    "    hidden_layer_sizes=(100,),  # 隐藏层大小\n",
    "    activation='relu',         # 激活函数\n",
    "    solver='adam',             # 优化算法\n",
    "    max_iter=1000,             # 最大迭代次数\n",
    "    random_state=42            # 随机种子\n",
    ")"
   ]
  },
  {
   "cell_type": "code",
   "execution_count": 6,
   "id": "3f0b8be7",
   "metadata": {},
   "outputs": [
    {
     "name": "stdout",
     "output_type": "stream",
     "text": [
      "Classification Report:\n",
      "              precision    recall  f1-score   support\n",
      "\n",
      "           0       0.85      0.85      0.85     14402\n",
      "           1       0.85      0.84      0.85     14398\n",
      "\n",
      "    accuracy                           0.85     28800\n",
      "   macro avg       0.85      0.85      0.85     28800\n",
      "weighted avg       0.85      0.85      0.85     28800\n",
      "\n"
     ]
    }
   ],
   "source": [
    "# 训练模型\n",
    "mlp.fit(X_train_scaled, y_train)\n",
    "\n",
    "# 预测\n",
    "y_pred = mlp.predict(X_test_scaled)\n",
    "\n",
    "# 评估模型\n",
    "print(\"Classification Report:\")\n",
    "print(classification_report(y_test, y_pred))"
   ]
  },
  {
   "cell_type": "code",
   "execution_count": 7,
   "id": "c8d07d79",
   "metadata": {},
   "outputs": [
    {
     "data": {
      "image/png": "[encoded data removed]",
      "text/plain": [
       "<Figure size 640x480 with 2 Axes>"
      ]
     },
     "metadata": {},
     "output_type": "display_data"
    }
   ],
   "source": [
    "# 绘制混淆矩阵\n",
    "conf_matrix = confusion_matrix(y_test, y_pred)\n",
    "disp = ConfusionMatrixDisplay(confusion_matrix=conf_matrix, display_labels=[0, 1])\n",
    "disp.plot(cmap=plt.cm.Blues)\n",
    "plt.title('Confusion Matrix')\n",
    "plt.show()"
   ]
  },
  {
   "cell_type": "code",
   "execution_count": 8,
   "id": "d2a429ad",
   "metadata": {},
   "outputs": [
    {
     "name": "stdout",
     "output_type": "stream",
     "text": [
      "预测结果已保存到 predictions.csv\n"
     ]
    }
   ],
   "source": [
    "test = load_data(\"test\")\n",
    "index = np.arange(144000, 180000)\n",
    "test_scaled = scaler.transform(test)\n",
    "data = mlp.predict(test_scaled).reshape(-1)\n",
    "writeDown(index, data)"
   ]
  },
  {
   "cell_type": "code",
   "execution_count": null,
   "id": "9ea0fd0a",
   "metadata": {},
   "outputs": [],
   "source": []
  }
 ],
 "metadata": {
  "kernelspec": {
   "display_name": ".venv",
   "language": "python",
   "name": "python3"
  },
  "language_info": {
   "codemirror_mode": {
    "name": "ipython",
    "version": 3
   },
   "file_extension": ".py",
   "mimetype": "text/x-python",
   "name": "python",
   "nbconvert_exporter": "python",
   "pygments_lexer": "ipython3",
   "version": "3.11.13"
  }
 },
 "nbformat": 4,
 "nbformat_minor": 5
}
